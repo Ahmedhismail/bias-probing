{
  "cells": [
    {
      "cell_type": "markdown",
      "id": "4e4e7471",
      "metadata": {
        "id": "4e4e7471"
      },
      "source": [
        "# Bias Response Curve Experiment\n",
        "\n",
        "This notebook measures how adding a gender steering vector to GPT-2 Small’s hidden state changes its output.\n",
        "\n",
        "- Loads GPT-2 Small via TransformerLens\n",
        "- Computes a gender bias steering vector (\" he\" vs \" she\") at a chosen layer/hook site\n",
        "- Sweeps α and injects at inference; reports relative logit differences Δ = logit(\" he\") − logit(\" she\")\n",
        "- Compares to random and orthogonal directions (controls)\n",
        "- Uses consistent BOS/tokenization and auto-detects decision position t\\*\n",
        "- Saves plot and prints basic stats\n"
      ]
    },
    {
      "cell_type": "markdown",
      "id": "dfa43938",
      "metadata": {
        "id": "dfa43938"
      },
      "source": [
        "## Glossary\n",
        "\n",
        "- **tokens / tokenization**: IDs produced by the tokenizer from text; model runs over token sequences.\n",
        "- **BOS / `PREPEND_BOS`**: Beginning-Of-Sequence token; when `True`, a BOS is prepended to inputs.\n",
        "- **prefix**: Input context string before the decision (e.g., `\"The doctor said that \"`).\n",
        "- **continuation**: Next token(s) we probe (e.g., `\" he\"`, `\" she\"`).\n",
        "\n",
        "- **`T_STAR` (t\\*)**: Index of the last token in the input prefix; next-token logits are predicted at this position.\n",
        "- **layer / `INJECT_LAYER`, `READ_LAYER`**: Transformer block indices where we inject and where we read/capture activations.\n",
        "- **site / `INJECT_SITE`, `READ_SITE`**: Sub-residual locations inside a block (e.g., `hook_resid_mid`, `hook_resid_post`).\n",
        "- **hook**: Callback attached to a named site to read/modify activations during the forward pass.\n",
        "- **`INJECT_HOOK_NAME`, `READ_HOOK_NAME`**: Full hook names like `blocks.{L}.{site}` used to register hooks.\n",
        "\n",
        "- **forward hook (`run_with_hooks`)**: Executes a forward pass with provided hooks; used to capture/edit activations.\n",
        "- **`stop_at_layer`**: Executes the forward pass only up to a given block, for efficiency/specificity.\n",
        "\n",
        "- **residual stream**: Main hidden state passed through blocks; vectors are read/injected here.\n",
        "- **`hook_resid_mid` vs `hook_resid_post`**: Mid = after attention added; Post = after MLP added (end of block).\n",
        "- **`ln_final`**: Final LayerNorm; applied before unembedding to produce logits.\n",
        "- **unembed / `model.unembed`**: Projects hidden state to vocabulary logits.\n",
        "- **logits**: Pre-softmax scores for each vocabulary token.\n",
        "\n",
        "- **`he_id` / `she_id`**: Token IDs for `\" he\"` and `\" she\"` (leading space).\n",
        "- **Δ_logit (`delta`)**: `logit(\" he\") - logit(\" she\")` at t\\* (bias score).\n",
        "- **alpha (`α`)**: Scalar strength for the steering vector injected at the chosen site/time.\n",
        "- **`v_bias`**: Unit bias direction from contrastive residuals (avg of `h(he) - h(she)` across prefixes).\n",
        "- **`v_rand` / `v_orth`**: Unit random control and its orthogonal component to `v_bias` (controls).\n",
        "- **clean logit lens**: Compute logits by `ln_final` + `unembed` on a captured hidden state.\n",
        "\n",
        "- **cache**: Dict filled inside hooks (e.g., `cache[\"resid\"]`) to store captured activations.\n",
        "- **local t\\***: For a given input, `tokens.shape[1] - 1`; recomputed per-prefix inside functions.\n"
      ]
    },
    {
      "cell_type": "code",
      "source": [
        "%pip install transformer_lens"
      ],
      "metadata": {
        "colab": {
          "base_uri": "https://localhost:8080/"
        },
        "id": "GweM1oKV0fUk",
        "outputId": "746da86b-ce4d-4d1f-eef3-7e10571fe321"
      },
      "id": "GweM1oKV0fUk",
      "execution_count": 2,
      "outputs": [
        {
          "output_type": "stream",
          "name": "stdout",
          "text": [
            "Requirement already satisfied: transformer_lens in /usr/local/lib/python3.11/dist-packages (2.16.1)\n",
            "Requirement already satisfied: accelerate>=0.23.0 in /usr/local/lib/python3.11/dist-packages (from transformer_lens) (1.10.0)\n",
            "Requirement already satisfied: beartype<0.15.0,>=0.14.1 in /usr/local/lib/python3.11/dist-packages (from transformer_lens) (0.14.1)\n",
            "Requirement already satisfied: better-abc<0.0.4,>=0.0.3 in /usr/local/lib/python3.11/dist-packages (from transformer_lens) (0.0.3)\n",
            "Requirement already satisfied: datasets>=2.7.1 in /usr/local/lib/python3.11/dist-packages (from transformer_lens) (4.0.0)\n",
            "Requirement already satisfied: einops>=0.6.0 in /usr/local/lib/python3.11/dist-packages (from transformer_lens) (0.8.1)\n",
            "Requirement already satisfied: fancy-einsum>=0.0.3 in /usr/local/lib/python3.11/dist-packages (from transformer_lens) (0.0.3)\n",
            "Requirement already satisfied: jaxtyping>=0.2.11 in /usr/local/lib/python3.11/dist-packages (from transformer_lens) (0.3.2)\n",
            "Requirement already satisfied: numpy<2,>=1.24 in /usr/local/lib/python3.11/dist-packages (from transformer_lens) (1.26.4)\n",
            "Requirement already satisfied: pandas>=1.1.5 in /usr/local/lib/python3.11/dist-packages (from transformer_lens) (2.2.2)\n",
            "Requirement already satisfied: rich>=12.6.0 in /usr/local/lib/python3.11/dist-packages (from transformer_lens) (13.9.4)\n",
            "Requirement already satisfied: sentencepiece in /usr/local/lib/python3.11/dist-packages (from transformer_lens) (0.2.1)\n",
            "Requirement already satisfied: torch>=2.6 in /usr/local/lib/python3.11/dist-packages (from transformer_lens) (2.6.0+cu124)\n",
            "Requirement already satisfied: tqdm>=4.64.1 in /usr/local/lib/python3.11/dist-packages (from transformer_lens) (4.67.1)\n",
            "Requirement already satisfied: transformers>=4.51 in /usr/local/lib/python3.11/dist-packages (from transformer_lens) (4.55.2)\n",
            "Requirement already satisfied: transformers-stream-generator<0.0.6,>=0.0.5 in /usr/local/lib/python3.11/dist-packages (from transformer_lens) (0.0.5)\n",
            "Requirement already satisfied: typeguard<5.0,>=4.2 in /usr/local/lib/python3.11/dist-packages (from transformer_lens) (4.4.4)\n",
            "Requirement already satisfied: typing-extensions in /usr/local/lib/python3.11/dist-packages (from transformer_lens) (4.14.1)\n",
            "Requirement already satisfied: wandb>=0.13.5 in /usr/local/lib/python3.11/dist-packages (from transformer_lens) (0.21.1)\n",
            "Requirement already satisfied: packaging>=20.0 in /usr/local/lib/python3.11/dist-packages (from accelerate>=0.23.0->transformer_lens) (25.0)\n",
            "Requirement already satisfied: psutil in /usr/local/lib/python3.11/dist-packages (from accelerate>=0.23.0->transformer_lens) (5.9.5)\n",
            "Requirement already satisfied: pyyaml in /usr/local/lib/python3.11/dist-packages (from accelerate>=0.23.0->transformer_lens) (6.0.2)\n",
            "Requirement already satisfied: huggingface_hub>=0.21.0 in /usr/local/lib/python3.11/dist-packages (from accelerate>=0.23.0->transformer_lens) (0.34.4)\n",
            "Requirement already satisfied: safetensors>=0.4.3 in /usr/local/lib/python3.11/dist-packages (from accelerate>=0.23.0->transformer_lens) (0.6.2)\n",
            "Requirement already satisfied: filelock in /usr/local/lib/python3.11/dist-packages (from datasets>=2.7.1->transformer_lens) (3.18.0)\n",
            "Requirement already satisfied: pyarrow>=15.0.0 in /usr/local/lib/python3.11/dist-packages (from datasets>=2.7.1->transformer_lens) (18.1.0)\n",
            "Requirement already satisfied: dill<0.3.9,>=0.3.0 in /usr/local/lib/python3.11/dist-packages (from datasets>=2.7.1->transformer_lens) (0.3.8)\n",
            "Requirement already satisfied: requests>=2.32.2 in /usr/local/lib/python3.11/dist-packages (from datasets>=2.7.1->transformer_lens) (2.32.3)\n",
            "Requirement already satisfied: xxhash in /usr/local/lib/python3.11/dist-packages (from datasets>=2.7.1->transformer_lens) (3.5.0)\n",
            "Requirement already satisfied: multiprocess<0.70.17 in /usr/local/lib/python3.11/dist-packages (from datasets>=2.7.1->transformer_lens) (0.70.16)\n",
            "Requirement already satisfied: fsspec<=2025.3.0,>=2023.1.0 in /usr/local/lib/python3.11/dist-packages (from fsspec[http]<=2025.3.0,>=2023.1.0->datasets>=2.7.1->transformer_lens) (2025.3.0)\n",
            "Requirement already satisfied: wadler-lindig>=0.1.3 in /usr/local/lib/python3.11/dist-packages (from jaxtyping>=0.2.11->transformer_lens) (0.1.7)\n",
            "Requirement already satisfied: python-dateutil>=2.8.2 in /usr/local/lib/python3.11/dist-packages (from pandas>=1.1.5->transformer_lens) (2.9.0.post0)\n",
            "Requirement already satisfied: pytz>=2020.1 in /usr/local/lib/python3.11/dist-packages (from pandas>=1.1.5->transformer_lens) (2025.2)\n",
            "Requirement already satisfied: tzdata>=2022.7 in /usr/local/lib/python3.11/dist-packages (from pandas>=1.1.5->transformer_lens) (2025.2)\n",
            "Requirement already satisfied: markdown-it-py>=2.2.0 in /usr/local/lib/python3.11/dist-packages (from rich>=12.6.0->transformer_lens) (4.0.0)\n",
            "Requirement already satisfied: pygments<3.0.0,>=2.13.0 in /usr/local/lib/python3.11/dist-packages (from rich>=12.6.0->transformer_lens) (2.19.2)\n",
            "Requirement already satisfied: networkx in /usr/local/lib/python3.11/dist-packages (from torch>=2.6->transformer_lens) (3.5)\n",
            "Requirement already satisfied: jinja2 in /usr/local/lib/python3.11/dist-packages (from torch>=2.6->transformer_lens) (3.1.6)\n",
            "Requirement already satisfied: nvidia-cuda-nvrtc-cu12==12.4.127 in /usr/local/lib/python3.11/dist-packages (from torch>=2.6->transformer_lens) (12.4.127)\n",
            "Requirement already satisfied: nvidia-cuda-runtime-cu12==12.4.127 in /usr/local/lib/python3.11/dist-packages (from torch>=2.6->transformer_lens) (12.4.127)\n",
            "Requirement already satisfied: nvidia-cuda-cupti-cu12==12.4.127 in /usr/local/lib/python3.11/dist-packages (from torch>=2.6->transformer_lens) (12.4.127)\n",
            "Requirement already satisfied: nvidia-cudnn-cu12==9.1.0.70 in /usr/local/lib/python3.11/dist-packages (from torch>=2.6->transformer_lens) (9.1.0.70)\n",
            "Requirement already satisfied: nvidia-cublas-cu12==12.4.5.8 in /usr/local/lib/python3.11/dist-packages (from torch>=2.6->transformer_lens) (12.4.5.8)\n",
            "Requirement already satisfied: nvidia-cufft-cu12==11.2.1.3 in /usr/local/lib/python3.11/dist-packages (from torch>=2.6->transformer_lens) (11.2.1.3)\n",
            "Requirement already satisfied: nvidia-curand-cu12==10.3.5.147 in /usr/local/lib/python3.11/dist-packages (from torch>=2.6->transformer_lens) (10.3.5.147)\n",
            "Requirement already satisfied: nvidia-cusolver-cu12==11.6.1.9 in /usr/local/lib/python3.11/dist-packages (from torch>=2.6->transformer_lens) (11.6.1.9)\n",
            "Requirement already satisfied: nvidia-cusparse-cu12==12.3.1.170 in /usr/local/lib/python3.11/dist-packages (from torch>=2.6->transformer_lens) (12.3.1.170)\n",
            "Requirement already satisfied: nvidia-cusparselt-cu12==0.6.2 in /usr/local/lib/python3.11/dist-packages (from torch>=2.6->transformer_lens) (0.6.2)\n",
            "Requirement already satisfied: nvidia-nccl-cu12==2.21.5 in /usr/local/lib/python3.11/dist-packages (from torch>=2.6->transformer_lens) (2.21.5)\n",
            "Requirement already satisfied: nvidia-nvtx-cu12==12.4.127 in /usr/local/lib/python3.11/dist-packages (from torch>=2.6->transformer_lens) (12.4.127)\n",
            "Requirement already satisfied: nvidia-nvjitlink-cu12==12.4.127 in /usr/local/lib/python3.11/dist-packages (from torch>=2.6->transformer_lens) (12.4.127)\n",
            "Requirement already satisfied: triton==3.2.0 in /usr/local/lib/python3.11/dist-packages (from torch>=2.6->transformer_lens) (3.2.0)\n",
            "Requirement already satisfied: sympy==1.13.1 in /usr/local/lib/python3.11/dist-packages (from torch>=2.6->transformer_lens) (1.13.1)\n",
            "Requirement already satisfied: mpmath<1.4,>=1.1.0 in /usr/local/lib/python3.11/dist-packages (from sympy==1.13.1->torch>=2.6->transformer_lens) (1.3.0)\n",
            "Requirement already satisfied: regex!=2019.12.17 in /usr/local/lib/python3.11/dist-packages (from transformers>=4.51->transformer_lens) (2024.11.6)\n",
            "Requirement already satisfied: tokenizers<0.22,>=0.21 in /usr/local/lib/python3.11/dist-packages (from transformers>=4.51->transformer_lens) (0.21.4)\n",
            "Requirement already satisfied: click!=8.0.0,>=7.1 in /usr/local/lib/python3.11/dist-packages (from wandb>=0.13.5->transformer_lens) (8.2.1)\n",
            "Requirement already satisfied: gitpython!=3.1.29,>=1.0.0 in /usr/local/lib/python3.11/dist-packages (from wandb>=0.13.5->transformer_lens) (3.1.45)\n",
            "Requirement already satisfied: platformdirs in /usr/local/lib/python3.11/dist-packages (from wandb>=0.13.5->transformer_lens) (4.3.8)\n",
            "Requirement already satisfied: protobuf!=4.21.0,!=5.28.0,<7,>=3.19.0 in /usr/local/lib/python3.11/dist-packages (from wandb>=0.13.5->transformer_lens) (5.29.5)\n",
            "Requirement already satisfied: pydantic<3 in /usr/local/lib/python3.11/dist-packages (from wandb>=0.13.5->transformer_lens) (2.11.7)\n",
            "Requirement already satisfied: sentry-sdk>=2.0.0 in /usr/local/lib/python3.11/dist-packages (from wandb>=0.13.5->transformer_lens) (2.34.1)\n",
            "Requirement already satisfied: aiohttp!=4.0.0a0,!=4.0.0a1 in /usr/local/lib/python3.11/dist-packages (from fsspec[http]<=2025.3.0,>=2023.1.0->datasets>=2.7.1->transformer_lens) (3.12.15)\n",
            "Requirement already satisfied: gitdb<5,>=4.0.1 in /usr/local/lib/python3.11/dist-packages (from gitpython!=3.1.29,>=1.0.0->wandb>=0.13.5->transformer_lens) (4.0.12)\n",
            "Requirement already satisfied: hf-xet<2.0.0,>=1.1.3 in /usr/local/lib/python3.11/dist-packages (from huggingface_hub>=0.21.0->accelerate>=0.23.0->transformer_lens) (1.1.7)\n",
            "Requirement already satisfied: mdurl~=0.1 in /usr/local/lib/python3.11/dist-packages (from markdown-it-py>=2.2.0->rich>=12.6.0->transformer_lens) (0.1.2)\n",
            "Requirement already satisfied: annotated-types>=0.6.0 in /usr/local/lib/python3.11/dist-packages (from pydantic<3->wandb>=0.13.5->transformer_lens) (0.7.0)\n",
            "Requirement already satisfied: pydantic-core==2.33.2 in /usr/local/lib/python3.11/dist-packages (from pydantic<3->wandb>=0.13.5->transformer_lens) (2.33.2)\n",
            "Requirement already satisfied: typing-inspection>=0.4.0 in /usr/local/lib/python3.11/dist-packages (from pydantic<3->wandb>=0.13.5->transformer_lens) (0.4.1)\n",
            "Requirement already satisfied: six>=1.5 in /usr/local/lib/python3.11/dist-packages (from python-dateutil>=2.8.2->pandas>=1.1.5->transformer_lens) (1.17.0)\n",
            "Requirement already satisfied: charset-normalizer<4,>=2 in /usr/local/lib/python3.11/dist-packages (from requests>=2.32.2->datasets>=2.7.1->transformer_lens) (3.4.3)\n",
            "Requirement already satisfied: idna<4,>=2.5 in /usr/local/lib/python3.11/dist-packages (from requests>=2.32.2->datasets>=2.7.1->transformer_lens) (3.10)\n",
            "Requirement already satisfied: urllib3<3,>=1.21.1 in /usr/local/lib/python3.11/dist-packages (from requests>=2.32.2->datasets>=2.7.1->transformer_lens) (2.5.0)\n",
            "Requirement already satisfied: certifi>=2017.4.17 in /usr/local/lib/python3.11/dist-packages (from requests>=2.32.2->datasets>=2.7.1->transformer_lens) (2025.8.3)\n",
            "Requirement already satisfied: MarkupSafe>=2.0 in /usr/local/lib/python3.11/dist-packages (from jinja2->torch>=2.6->transformer_lens) (3.0.2)\n",
            "Requirement already satisfied: aiohappyeyeballs>=2.5.0 in /usr/local/lib/python3.11/dist-packages (from aiohttp!=4.0.0a0,!=4.0.0a1->fsspec[http]<=2025.3.0,>=2023.1.0->datasets>=2.7.1->transformer_lens) (2.6.1)\n",
            "Requirement already satisfied: aiosignal>=1.4.0 in /usr/local/lib/python3.11/dist-packages (from aiohttp!=4.0.0a0,!=4.0.0a1->fsspec[http]<=2025.3.0,>=2023.1.0->datasets>=2.7.1->transformer_lens) (1.4.0)\n",
            "Requirement already satisfied: attrs>=17.3.0 in /usr/local/lib/python3.11/dist-packages (from aiohttp!=4.0.0a0,!=4.0.0a1->fsspec[http]<=2025.3.0,>=2023.1.0->datasets>=2.7.1->transformer_lens) (25.3.0)\n",
            "Requirement already satisfied: frozenlist>=1.1.1 in /usr/local/lib/python3.11/dist-packages (from aiohttp!=4.0.0a0,!=4.0.0a1->fsspec[http]<=2025.3.0,>=2023.1.0->datasets>=2.7.1->transformer_lens) (1.7.0)\n",
            "Requirement already satisfied: multidict<7.0,>=4.5 in /usr/local/lib/python3.11/dist-packages (from aiohttp!=4.0.0a0,!=4.0.0a1->fsspec[http]<=2025.3.0,>=2023.1.0->datasets>=2.7.1->transformer_lens) (6.6.4)\n",
            "Requirement already satisfied: propcache>=0.2.0 in /usr/local/lib/python3.11/dist-packages (from aiohttp!=4.0.0a0,!=4.0.0a1->fsspec[http]<=2025.3.0,>=2023.1.0->datasets>=2.7.1->transformer_lens) (0.3.2)\n",
            "Requirement already satisfied: yarl<2.0,>=1.17.0 in /usr/local/lib/python3.11/dist-packages (from aiohttp!=4.0.0a0,!=4.0.0a1->fsspec[http]<=2025.3.0,>=2023.1.0->datasets>=2.7.1->transformer_lens) (1.20.1)\n",
            "Requirement already satisfied: smmap<6,>=3.0.1 in /usr/local/lib/python3.11/dist-packages (from gitdb<5,>=4.0.1->gitpython!=3.1.29,>=1.0.0->wandb>=0.13.5->transformer_lens) (5.0.2)\n"
          ]
        }
      ]
    },
    {
      "cell_type": "code",
      "execution_count": 51,
      "id": "78bb1bc9",
      "metadata": {
        "colab": {
          "base_uri": "https://localhost:8080/"
        },
        "id": "78bb1bc9",
        "outputId": "22f66713-d928-4af7-b793-cbee9f923fd3"
      },
      "outputs": [
        {
          "output_type": "stream",
          "name": "stdout",
          "text": [
            "Using device: cuda\n",
            "Loaded pretrained model gpt2-small into HookedTransformer\n",
            "Moving model to device:  cuda\n"
          ]
        }
      ],
      "source": [
        "# Determinism env (set before Torch ops for cuBLAS determinism)\n",
        "import os\n",
        "\n",
        "os.environ.setdefault(\"CUBLAS_WORKSPACE_CONFIG\", \":4096:8\")\n",
        "\n",
        "import numpy as np\n",
        "import torch\n",
        "import matplotlib.pyplot as plt\n",
        "from transformer_lens import HookedTransformer\n",
        "\n",
        "# Repro + determinism\n",
        "SEED = 42\n",
        "np.random.seed(SEED)\n",
        "torch.manual_seed(SEED)\n",
        "try:\n",
        "    torch.use_deterministic_algorithms(True)\n",
        "except Exception:\n",
        "    pass\n",
        "torch.backends.cudnn.deterministic = True\n",
        "torch.backends.cudnn.benchmark = False\n",
        "\n",
        "device = torch.device(\"cuda\" if torch.cuda.is_available() else \"cpu\")\n",
        "print(\"Using device:\", device)\n",
        "\n",
        "model = HookedTransformer.from_pretrained(\"gpt2-small\").to(device).eval()"
      ]
    },
    {
      "cell_type": "markdown",
      "id": "a29b808b",
      "metadata": {
        "id": "a29b808b"
      },
      "source": [
        "<div style=\"margin-top: 0.5rem\">\n",
        "  <h2>Experiment configuration</h2>\n",
        "  <p>Set the prompt policy, steering/injection site, and the readout site for computing logits via a clean logit lens.</p>\n",
        "  <ul>\n",
        "    <li><b>Prompt policy</b>: use a shared prefix with a leading space policy consistent across the notebook (BOS controlled by <code>PREPEND_BOS</code>).</li>\n",
        "    <li><b>Inject site</b>: <code>blocks.{INJECT_LAYER}.{INJECT_SITE}</code> (we add a steering vector at a specific layer/site).</li>\n",
        "    <li><b>Read site</b>: <code>blocks.{READ_LAYER}.{READ_SITE}</code> (we capture the residual and apply <code>layer_norm (final layer)</code> + <code>unembed</code> to get logits).</li>\n",
        "    <li><b>Alpha sweep</b>: choose an <code>alphas</code> range.</li>\n",
        "  </ul>\n",
        "</div>\n"
      ]
    },
    {
      "cell_type": "code",
      "execution_count": 64,
      "id": "241d9fb4",
      "metadata": {
        "id": "241d9fb4"
      },
      "outputs": [],
      "source": [
        "PREPEND_BOS = True\n",
        "prefix = \"The doctor said that \"\n",
        "\n",
        "# Tokenize once for the main prefix; used by the sanity check\n",
        "toks_prefix = model.to_tokens(prefix, prepend_bos=PREPEND_BOS).to(device)\n",
        "\n",
        "# Token IDs for the contrastive pair\n",
        "he_id = int(model.to_tokens(\" he\", prepend_bos=False)[0, 0])\n",
        "she_id = int(model.to_tokens(\" she\", prepend_bos=False)[0, 0])\n",
        "\n",
        "# Injection and readout configuration\n",
        "INJECT_LAYER = 3\n",
        "READ_LAYER = 8\n",
        "INJECT_SITE = \"hook_resid_mid\"\n",
        "READ_SITE = \"hook_resid_post\"\n",
        "INJECT_HOOK_NAME = f\"blocks.{INJECT_LAYER}.{INJECT_SITE}\"\n",
        "READ_HOOK_NAME = f\"blocks.{READ_LAYER}.{READ_SITE}\"\n",
        "\n",
        "# Alpha sweep grid\n",
        "alphas = np.array(np.arange(-1, 1, 0.1), dtype=float)"
      ]
    },
    {
      "cell_type": "markdown",
      "id": "b2a0068f",
      "metadata": {
        "id": "b2a0068f"
      },
      "source": [
        "<div style=\"margin-top: 0.5rem\">\n",
        "  <h2>Contrastive pairs and capture</h2>\n",
        "  <p>We follow the old convention: build a He–She contrast by capturing the residual activation at the first pronoun token under a set of neutral prefixes.</p>\n",
        "  <ul>\n",
        "    <li><b>Pair</b>: (\" he\", \" she\") with a leading space for tokenizer consistency.</li>\n",
        "    <li><b>Position</b>: the pronoun occurs immediately after the given prefix string.</li>\n",
        "  </ul>\n",
        "</div>\n"
      ]
    },
    {
      "cell_type": "code",
      "execution_count": 65,
      "id": "25817e64",
      "metadata": {
        "id": "25817e64"
      },
      "outputs": [],
      "source": [
        "PREFIX_LIST = [\n",
        "    \"The doctor said that \",\n",
        "    \"The nurse mentioned that \",\n",
        "    \"The engineer argued that \",\n",
        "    \"The teacher noted that \",\n",
        "    \"The manager reported that \",\n",
        "    \"The journalist said that \",\n",
        "    \"The lawyer stated that \",\n",
        "    \"The chef remarked that \",\n",
        "    \"The professor explained that \",\n",
        "    \"The scientist observed that \",\n",
        "]\n",
        "\n",
        "\n",
        "@torch.no_grad()\n",
        "def residual_at_pronoun(prefix_text: str, pronoun: str, layer: int = INJECT_LAYER, site: str = INJECT_SITE):\n",
        "    \"\"\"Capture the residual stream at the first pronoun token position under the given prefix.\n",
        "    This function mirrors the contrastive pair convention (He vs She) used in the older experiment.\n",
        "    \"\"\"\n",
        "    toks_prefix_only = model.to_tokens(prefix_text, prepend_bos=PREPEND_BOS).to(device)\n",
        "    pronoun_pos = toks_prefix_only.shape[1]  # index of first pronoun token (prefix length)\n",
        "\n",
        "    toks = model.to_tokens(prefix_text + pronoun, prepend_bos=PREPEND_BOS).to(device)\n",
        "\n",
        "    cache = {}\n",
        "\n",
        "    def grab(activation, hook):\n",
        "        cache[\"resid\"] = activation.detach()\n",
        "        return activation\n",
        "\n",
        "    _ = model.run_with_hooks(toks, return_type=None, stop_at_layer=layer + 1, fwd_hooks=[(f\"blocks.{layer}.{site}\", grab)])\n",
        "\n",
        "    return cache[\"resid\"][0, pronoun_pos, :].clone()"
      ]
    },
    {
      "cell_type": "markdown",
      "id": "f9c3e129",
      "metadata": {
        "id": "f9c3e129"
      },
      "source": [
        "## Compute Bias and Orthogonal Vectors\n",
        "\n",
        "- Contrastive: average `h_t*(he) - h_t*(she)` across prefixes\n",
        "- Gradient fallback: local decision-aligned direction\n",
        "- Controls: random same-norm; orth via Gram–Schmidt\n"
      ]
    },
    {
      "cell_type": "code",
      "execution_count": 66,
      "id": "c867b193",
      "metadata": {
        "id": "c867b193"
      },
      "outputs": [],
      "source": [
        "def build_bias_vector_contrastive(layer: int = INJECT_LAYER) -> torch.Tensor:\n",
        "    \"\"\"Compute the He–She bias direction by averaging residual differences across prefixes.\n",
        "    Returns a unit vector in the residual space at the injection site (layer/site).\n",
        "    \"\"\"\n",
        "    v_sum = torch.zeros(model.cfg.d_model, device=device)\n",
        "    for p in PREFIX_LIST:\n",
        "        r_he = residual_at_pronoun(p, \" he\", layer)\n",
        "        r_she = residual_at_pronoun(p, \" she\", layer)\n",
        "        v_sum += r_he - r_she\n",
        "    return v_sum / (v_sum.norm() + 1e-8)"
      ]
    },
    {
      "cell_type": "markdown",
      "id": "afc8116c",
      "metadata": {
        "id": "afc8116c"
      },
      "source": [
        "### Build Bias Vectors\n",
        "\n",
        "- Main bias vector using contrastive method (he vs she differences)\n",
        "- Construct an approximate gradient to find direction bias vector points to (and orient accordingly)\n",
        "- Random and orthogonal control vectors for comparison\n"
      ]
    },
    {
      "cell_type": "code",
      "execution_count": 67,
      "id": "564d7857",
      "metadata": {
        "id": "564d7857"
      },
      "outputs": [],
      "source": [
        "# (1) build + normalize bias vector from contrastive pairs\n",
        "v_bias = build_bias_vector_contrastive(INJECT_LAYER)\n",
        "\n",
        "# (2) orient v_bias so that +alpha increases Δ = logit(' he') - logit(' she')\n",
        "eps = 1e-3\n",
        "\n",
        "toks = model.to_tokens(prefix, prepend_bos=PREPEND_BOS).to(device)\n",
        "pos  = toks.shape[1] - 1  # decision step = last prefix token\n",
        "\n",
        "@torch.no_grad()\n",
        "def approx_grad(alpha: float) -> float:\n",
        "    cache = {}\n",
        "\n",
        "    def add_steer(resid, hook):\n",
        "        resid[:, pos, :] = resid[:, pos, :] + alpha * v_bias\n",
        "        return resid\n",
        "\n",
        "    def grab_read(resid, hook):\n",
        "        cache[\"resid\"] = resid.detach().clone()\n",
        "        return resid\n",
        "\n",
        "    _ = model.run_with_hooks(\n",
        "        toks, return_type=None,\n",
        "        stop_at_layer=max(INJECT_LAYER, READ_LAYER) + 1,\n",
        "        fwd_hooks=[(INJECT_HOOK_NAME, add_steer),\n",
        "                   (READ_HOOK_NAME,   grab_read)]\n",
        "    )\n",
        "    resid  = model.ln_final(cache[\"resid\"][:, pos:pos+1, :])\n",
        "    logits = model.unembed(resid)[0, 0, :]\n",
        "    return float((logits[he_id] - logits[she_id]).item())\n",
        "\n",
        "d_plus  = approx_grad(+eps)\n",
        "d_minus = approx_grad(-eps)\n",
        "if d_plus < d_minus:\n",
        "    v_bias = -v_bias  # flip so +alpha pushes toward ' he'\n",
        "\n",
        "# (3) control directions (unit norm)\n",
        "v_rand = torch.randn_like(v_bias)\n",
        "v_rand /= v_rand.norm() + 1e-8\n",
        "v_orth = v_rand - (v_rand @ v_bias) * v_bias\n",
        "v_orth /= v_orth.norm() + 1e-8"
      ]
    },
    {
      "cell_type": "markdown",
      "id": "d78de11f",
      "metadata": {
        "id": "d78de11f"
      },
      "source": [
        "<div style=\"margin-top: 0.5rem\">\n",
        "  <h2>Logit lens func</h2>\n",
        "  <ul>\n",
        "    <li>Compute logits from a captured residual by applying <code>ln_final</code> then <code>unembed</code>.</li>\n",
        "    <li>Compare to the model’s head logits at the same token position; require near-exact match.</li>\n",
        "  </ul>\n",
        "</div>\n"
      ]
    },
    {
      "cell_type": "code",
      "execution_count": 68,
      "id": "9e637bab",
      "metadata": {
        "id": "9e637bab"
      },
      "outputs": [],
      "source": [
        "@torch.no_grad()\n",
        "def logit_lens(tokens, read_hook_name=READ_HOOK_NAME, apply_ln_final=True):\n",
        "    cache = {}\n",
        "\n",
        "    def read_hook(act, hook):\n",
        "        cache[\"resid\"] = act.detach().clone()\n",
        "        return act\n",
        "\n",
        "    _ = model.run_with_hooks(tokens, return_type=None, stop_at_layer=READ_LAYER + 1, fwd_hooks=[(read_hook_name, read_hook)])\n",
        "    local_tstar = tokens.shape[1] - 1\n",
        "    resid = cache[\"resid\"][:, local_tstar : local_tstar + 1, :]\n",
        "    if apply_ln_final:\n",
        "        resid = model.ln_final(resid)\n",
        "    return model.unembed(resid)[0, 0, :]"
      ]
    },
    {
      "cell_type": "markdown",
      "id": "cb1011fc",
      "metadata": {
        "id": "cb1011fc"
      },
      "source": [
        "<div style=\"margin-top: 0.5rem\">\n",
        "  <h2>Measurement: Do steering and find deltas with logit lense</h2>\n",
        "  <p>We inject a steering vector at the inject site and read logits at the read site -> pronoun position using logit lens (<code>ln_final</code> + <code>unembed</code>).</p>\n",
        "  <ul>\n",
        "    <li>Returns <code>Δ_logit = logit(He) − logit(She)</code> for a given <code>α</code>.</li>\n",
        "    <li>When <code>α = 0</code>, values match the unmodified clean-lens difference.</li>\n",
        "  </ul>\n",
        "</div>\n"
      ]
    },
    {
      "cell_type": "code",
      "execution_count": 69,
      "id": "06bc185c",
      "metadata": {
        "colab": {
          "base_uri": "https://localhost:8080/"
        },
        "id": "06bc185c",
        "outputId": "61e5a0dc-b8d0-4b4a-e0b9-2404942f8959"
      },
      "outputs": [
        {
          "output_type": "stream",
          "name": "stdout",
          "text": [
            "{'zero_alpha_delta': 1.408536434173584, 'unmodified_delta': 1.408536434173584}\n"
          ]
        }
      ],
      "source": [
        "@torch.no_grad()\n",
        "def delta_logit_lens(prompt: str, steer_vec: torch.Tensor, alpha: float, inject_hook_name: str = INJECT_HOOK_NAME, read_hook_name: str = READ_HOOK_NAME) -> float:\n",
        "    \"\"\"Return Δ_logit = logit(He) − logit(She) at the pronoun position under a clean logit lens.\n",
        "    Does not change model weights; only adds a steer_vec at the configured injection site during the forward pass.\n",
        "    \"\"\"\n",
        "    toks = model.to_tokens(prompt, prepend_bos=PREPEND_BOS).to(device)\n",
        "    target_pos = toks.shape[1] - 1\n",
        "    cache = {}\n",
        "\n",
        "    def steer(act, hook):\n",
        "        act[:, target_pos, :] = act[:, target_pos, :] + alpha * steer_vec\n",
        "        return act\n",
        "\n",
        "    def readh(act, hook):\n",
        "        cache[\"resid\"] = act.detach().clone()\n",
        "        return act\n",
        "\n",
        "    _ = model.run_with_hooks(toks, return_type=None, stop_at_layer=max(INJECT_LAYER, READ_LAYER) + 1, fwd_hooks=[(inject_hook_name, steer), (read_hook_name, readh)])\n",
        "\n",
        "    resid = model.ln_final(cache[\"resid\"][:, target_pos : target_pos + 1, :])\n",
        "    logits = model.unembed(resid)[0, 0, :]\n",
        "    return float((logits[he_id] - logits[she_id]).item())\n",
        "\n",
        "\n",
        "# α=0 consistency check\n",
        "zero_delta = delta_logit_lens(prefix, v_bias, 0.0)\n",
        "unmod_delta = float((logit_lens(toks_prefix)[he_id] - logit_lens(toks_prefix)[she_id]).item())\n",
        "print({\"zero_alpha_delta\": zero_delta, \"unmodified_delta\": unmod_delta})\n",
        "assert abs(zero_delta - unmod_delta) < 1e-6"
      ]
    },
    {
      "cell_type": "markdown",
      "id": "b90379d5",
      "metadata": {
        "id": "b90379d5"
      },
      "source": [
        "## Sweep Alpha Values and Collect Results\n",
        "\n",
        "- Sweep on main prefix and a neutral control (\"Today \")\n",
        "- Fit slopes over the four smallest |α| points; expect bias ≠ 0, random ≈ 0\n"
      ]
    },
    {
      "cell_type": "code",
      "execution_count": 70,
      "id": "5a5d9f58",
      "metadata": {
        "colab": {
          "base_uri": "https://localhost:8080/"
        },
        "id": "5a5d9f58",
        "outputId": "f5645dab-6a39-4c4c-90cd-5a05a0b9e07e"
      },
      "outputs": [
        {
          "output_type": "stream",
          "name": "stdout",
          "text": [
            "alpha grid: [-1.00000000e+00 -9.00000000e-01 -8.00000000e-01 -7.00000000e-01\n",
            " -6.00000000e-01 -5.00000000e-01 -4.00000000e-01 -3.00000000e-01\n",
            " -2.00000000e-01 -1.00000000e-01 -2.22044605e-16  1.00000000e-01\n",
            "  2.00000000e-01  3.00000000e-01  4.00000000e-01  5.00000000e-01\n",
            "  6.00000000e-01  7.00000000e-01  8.00000000e-01  9.00000000e-01]\n",
            "ranges main: {'bias': (1.3853468894958496, 1.4306612014770508), 'random': (1.4042472839355469, 1.4138522148132324), 'orth': (1.4043540954589844, 1.4137344360351562)}\n",
            "ranges null: {'bias': (0.9712104797363281, 1.0379514694213867), 'random': (0.999812126159668, 1.0109119415283203), 'orth': (0.9996380805969238, 1.0110664367675781)}\n",
            "near-zero slopes (main): {'bias': 0.024006, 'random': -0.005012, 'orth': -0.004891}\n"
          ]
        }
      ],
      "source": [
        "def run_sweep(vectors: dict[str, torch.Tensor], alpha_grid: np.ndarray, prompt: str) -> dict[str, list[float]]:\n",
        "    out = {k: [] for k in vectors}\n",
        "    for a in alpha_grid:\n",
        "        for name, vec in vectors.items():\n",
        "            out[name].append(delta_logit_lens(prompt, vec, float(a)))\n",
        "    return out\n",
        "\n",
        "\n",
        "vectors = {\"bias\": v_bias, \"random\": v_rand, \"orth\": v_orth}\n",
        "results_main = run_sweep(vectors, alphas, prefix)\n",
        "results_null = run_sweep(vectors, alphas, \"Today \")\n",
        "\n",
        "print(\"alpha grid:\", alphas)\n",
        "print(\"ranges main:\", {k: (float(np.min(v)), float(np.max(v))) for k, v in results_main.items()})\n",
        "print(\"ranges null:\", {k: (float(np.min(v)), float(np.max(v))) for k, v in results_null.items()})\n",
        "\n",
        "fit_sel = np.argsort(np.abs(alphas))[:4]\n",
        "\n",
        "\n",
        "def slope_near_zero(y: list[float]) -> float:\n",
        "    X = np.vstack([alphas[fit_sel], np.ones_like(fit_sel, float)]).T\n",
        "    beta, _ = np.linalg.lstsq(X, np.array(y)[fit_sel], rcond=None)[0]\n",
        "    return float(beta)\n",
        "\n",
        "\n",
        "slopes = {k: slope_near_zero(v) for k, v in results_main.items()}\n",
        "print(\"near-zero slopes (main):\", {k: round(v, 6) for k, v in slopes.items()})"
      ]
    },
    {
      "cell_type": "markdown",
      "id": "62c341ed",
      "metadata": {
        "id": "62c341ed"
      },
      "source": [
        "## Plot Results\n",
        "\n",
        "- Title includes inject/read sites and t\\*\n",
        "- Save as `brc_gpt2s_injL{...}_readL{...}_tstar.png`\n",
        "- Print acceptance highlights\n"
      ]
    },
    {
      "cell_type": "code",
      "execution_count": 71,
      "id": "9e393d25",
      "metadata": {
        "colab": {
          "base_uri": "https://localhost:8080/",
          "height": 681
        },
        "id": "9e393d25",
        "outputId": "337ff2e1-53c4-4365-cec6-ab0ded393a07"
      },
      "outputs": [
        {
          "output_type": "display_data",
          "data": {
            "text/plain": [
              "<Figure size 900x600 with 1 Axes>"
            ],
            "image/png": "[encoded data removed]"
          },
          "metadata": {}
        },
        {
          "output_type": "stream",
          "name": "stdout",
          "text": [
            "Saved: brc_gpt2s_injL3_readL8_tstar.png\n",
            "slopes near zero: {'bias': 0.024006, 'random': -0.005012, 'orth': -0.004891}\n",
            "alpha range: [-1.0, -0.9, -0.8, -0.7000000000000001, -0.6000000000000001, -0.5000000000000001, -0.40000000000000013, -0.30000000000000016, -0.20000000000000018, -0.1000000000000002, -2.220446049250313e-16, 0.09999999999999964, 0.19999999999999973, 0.2999999999999998, 0.3999999999999997, 0.49999999999999956, 0.5999999999999996, 0.6999999999999997, 0.7999999999999996, 0.8999999999999995]\n"
          ]
        }
      ],
      "source": [
        "plt.style.use(\"seaborn-v0_8-whitegrid\")\n",
        "fig, ax = plt.subplots(figsize=(9, 6))\n",
        "\n",
        "colors = {\"bias\": \"#0072B2\", \"random\": \"#D55E00\", \"orth\": \"#009E73\"}\n",
        "for name in [\"bias\", \"random\", \"orth\"]:\n",
        "    ax.plot(alphas, results_main[name], label=name, color=colors[name], linewidth=2.5 if name == \"bias\" else 2, marker=\"o\", markersize=3)\n",
        "\n",
        "ax.axhline(0, color=\"black\", linestyle=\"--\", linewidth=1)\n",
        "ax.set_xlabel(r\"Steering coefficient $\\alpha$\", fontsize=14)\n",
        "ax.set_ylabel(r\"$\\Delta_{\\mathrm{logit}} = \\mathrm{logit}(\\text{He}) - \\mathrm{logit}(\\text{She})$\", fontsize=14)\n",
        "ax.set_title(f\"Bias Response Curve (GPT-2 Small) | inject: L{INJECT_LAYER}:{INJECT_SITE} → read: L{READ_LAYER}:{READ_SITE}\", fontsize=15, weight=\"bold\")\n",
        "ax.legend(frameon=True, fontsize=11)\n",
        "ax.tick_params(axis=\"both\", which=\"major\", labelsize=12)\n",
        "\n",
        "note = f\"clean logit lens (ln_final=on), BOS={PREPEND_BOS}, prefix='{prefix}'\"\n",
        "ax.text(0.01, -0.14, note, transform=ax.transAxes, fontsize=10, color=\"gray\")\n",
        "\n",
        "plt.tight_layout()\n",
        "fig_path = f\"brc_gpt2s_injL{INJECT_LAYER}_readL{READ_LAYER}_tstar.png\"\n",
        "plt.savefig(fig_path, dpi=300, bbox_inches=\"tight\")\n",
        "plt.show()\n",
        "print(\"Saved:\", fig_path)\n",
        "print(\"slopes near zero:\", {k: round(v, 6) for k, v in slopes.items()})\n",
        "print(\"alpha range:\", alphas.tolist())"
      ]
    },
    {
      "cell_type": "markdown",
      "source": [
        "# Logit Lense sanity check: When checking final layer\n",
        "Compare logit lense with actual model head"
      ],
      "metadata": {
        "id": "GR89WVaA9MMp"
      },
      "id": "GR89WVaA9MMp"
    },
    {
      "cell_type": "code",
      "source": [
        "@torch.no_grad()\n",
        "def head_logits_at_tstar(tokens):\n",
        "    local_tstar = tokens.shape[1] - 1\n",
        "    return model(tokens, return_type=\"logits\")[0, local_tstar, :]\n",
        "\n",
        "\n",
        "# Compute logits at t* using both the clean lens and the model's head\n",
        "logits_lens = logit_lens(toks_prefix)\n",
        "logits_head = head_logits_at_tstar(toks_prefix)\n",
        "\n",
        "# Compute the maximum absolute difference between the two methods\n",
        "max_abs_diff = (logits_lens - logits_head).abs().max().item()\n",
        "print(\"lens_vs_head_max_abs_diff:\", max_abs_diff)\n",
        "\n",
        "# Sanity check: the two methods should agree to high precision\n",
        "if READ_LAYER == model.cfg.n_layers - 1: assert max_abs_diff < 1e-5, f\"Mismatch at final layer: {max_abs_diff}\""
      ],
      "metadata": {
        "colab": {
          "base_uri": "https://localhost:8080/"
        },
        "id": "KfZbNUyR9LnL",
        "outputId": "057f76f1-bb21-4efe-b9d3-dbd788434202"
      },
      "id": "KfZbNUyR9LnL",
      "execution_count": 76,
      "outputs": [
        {
          "output_type": "stream",
          "name": "stdout",
          "text": [
            "lens_vs_head_max_abs_diff: 18.502727508544922\n"
          ]
        }
      ]
    },
    {
      "cell_type": "markdown",
      "source": [
        "Sweep across different read and inject layer combinations:"
      ],
      "metadata": {
        "id": "uSkGTx__HRhq"
      },
      "id": "uSkGTx__HRhq"
    },
    {
      "cell_type": "code",
      "source": [
        "import os\n",
        "\n",
        "# --- config for the sweep ---\n",
        "inject_layers = [1, 2, 3, 4, 5]\n",
        "read_layers   = [6, 7, 8, 9, 10]\n",
        "out_dir = \"figs_brc_layergrid\"\n",
        "os.makedirs(out_dir, exist_ok=True)\n",
        "\n",
        "# safety: clip to model's layer count\n",
        "nL = model.cfg.n_layers\n",
        "inject_layers = [L for L in inject_layers if 0 <= L < nL]\n",
        "read_layers   = [L for L in read_layers   if 0 <= L < nL]\n",
        "\n",
        "# tiny helper: run sweep for one (inject, read) pair\n",
        "def run_sweep_with_hooks(vectors, alpha_grid, prompt, inj_layer, read_layer):\n",
        "    inject_hook = f\"blocks.{inj_layer}.{INJECT_SITE}\"\n",
        "    read_hook   = f\"blocks.{read_layer}.{READ_SITE}\"\n",
        "    out = {k: [] for k in vectors}\n",
        "    for a in alpha_grid:\n",
        "        a = float(a)\n",
        "        for name, vec in vectors.items():\n",
        "            out[name].append(delta_logit_lens(prompt, vec, a, inject_hook, read_hook))\n",
        "    return out, inject_hook, read_hook\n",
        "\n",
        "# slope fitter around alpha ~ 0 (use 4 smallest |alpha| points)\n",
        "fit_sel = np.argsort(np.abs(alphas))[:4]\n",
        "def slope_near_zero(y):\n",
        "    X = np.vstack([alphas[fit_sel], np.ones(len(fit_sel))]).T\n",
        "    beta, _ = np.linalg.lstsq(X, np.array(y)[fit_sel], rcond=None)[0]\n",
        "    return float(beta)\n",
        "\n",
        "# plotting style\n",
        "colors = {\"bias\": \"#0072B2\", \"random\": \"#D55E00\", \"orth\": \"#009E73\"}\n",
        "\n",
        "# --- main sweep ---\n",
        "for inj in inject_layers:\n",
        "    for read in read_layers:\n",
        "        # (optional) skip impossible ordering; comment out if you want all combos\n",
        "        if read <= inj:\n",
        "            continue\n",
        "\n",
        "        results, inject_hook, read_hook = run_sweep_with_hooks(vectors, alphas, prefix, inj, read)\n",
        "\n",
        "        # compute slopes near zero\n",
        "        slopes = {k: slope_near_zero(v) for k, v in results.items()}\n",
        "\n",
        "        # plot\n",
        "        plt.style.use(\"seaborn-v0_8-whitegrid\")\n",
        "        fig, ax = plt.subplots(figsize=(9, 6))\n",
        "\n",
        "        for name in [\"bias\", \"random\", \"orth\"]:\n",
        "            ax.plot(\n",
        "                alphas,\n",
        "                results[name],\n",
        "                label=name,\n",
        "                color=colors[name],\n",
        "                linewidth=2.5 if name == \"bias\" else 2,\n",
        "                marker=\"o\",\n",
        "                markersize=3,\n",
        "            )\n",
        "\n",
        "        ax.axhline(0, color=\"black\", linestyle=\"--\", linewidth=1)\n",
        "        ax.set_xlabel(\"Steering coefficient α\", fontsize=14)\n",
        "        ax.set_ylabel(\"Δ = logit(' he') − logit(' she')\", fontsize=14)\n",
        "        ax.set_title(\n",
        "            f\"BRC | inject: L{inj}:{INJECT_SITE} → read: L{read}:{READ_SITE}\",\n",
        "            fontsize=15, weight=\"bold\"\n",
        "        )\n",
        "        ax.legend(frameon=True, fontsize=11)\n",
        "        ax.tick_params(axis=\"both\", which=\"major\", labelsize=12)\n",
        "\n",
        "        note = f\"BOS={PREPEND_BOS}, prefix='{prefix}'\"\n",
        "        ax.text(0.01, -0.14, note, transform=ax.transAxes, fontsize=10, color=\"gray\")\n",
        "\n",
        "        plt.tight_layout()\n",
        "        fig_path = os.path.join(out_dir, f\"brc_injL{inj}_{INJECT_SITE}_readL{read}_{READ_SITE}.png\")\n",
        "        plt.savefig(fig_path, dpi=300, bbox_inches=\"tight\")\n",
        "        plt.close(fig)\n",
        "\n",
        "        print(\n",
        "            f\"Saved {fig_path} | slopes:\",\n",
        "            {k: round(v, 6) for k, v in slopes.items()}\n",
        "        )"
      ],
      "metadata": {
        "colab": {
          "base_uri": "https://localhost:8080/",
          "height": 446
        },
        "id": "L1zImsSgHVMT",
        "outputId": "3b6d90e0-e863-4fd3-a0d0-04c544be5150"
      },
      "id": "L1zImsSgHVMT",
      "execution_count": 77,
      "outputs": [
        {
          "output_type": "stream",
          "name": "stdout",
          "text": [
            "Saved figs_brc_layergrid/brc_injL1_hook_resid_mid_readL6_hook_resid_post.png | slopes: {'bias': 0.066275, 'random': -0.015697, 'orth': -0.015349}\n",
            "Saved figs_brc_layergrid/brc_injL1_hook_resid_mid_readL7_hook_resid_post.png | slopes: {'bias': 0.058539, 'random': -0.017743, 'orth': -0.01746}\n",
            "Saved figs_brc_layergrid/brc_injL1_hook_resid_mid_readL8_hook_resid_post.png | slopes: {'bias': 0.040122, 'random': -0.01001, 'orth': -0.009807}\n"
          ]
        },
        {
          "output_type": "error",
          "ename": "KeyError",
          "evalue": "'resid'",
          "traceback": [
            "\u001b[0;31m---------------------------------------------------------------------------\u001b[0m",
            "\u001b[0;31mKeyError\u001b[0m                                  Traceback (most recent call last)",
            "\u001b[0;32m/tmp/ipython-input-1154923142.py\u001b[0m in \u001b[0;36m<cell line: 0>\u001b[0;34m()\u001b[0m\n\u001b[1;32m     40\u001b[0m             \u001b[0;32mcontinue\u001b[0m\u001b[0;34m\u001b[0m\u001b[0;34m\u001b[0m\u001b[0m\n\u001b[1;32m     41\u001b[0m \u001b[0;34m\u001b[0m\u001b[0m\n\u001b[0;32m---> 42\u001b[0;31m         \u001b[0mresults\u001b[0m\u001b[0;34m,\u001b[0m \u001b[0minject_hook\u001b[0m\u001b[0;34m,\u001b[0m \u001b[0mread_hook\u001b[0m \u001b[0;34m=\u001b[0m \u001b[0mrun_sweep_with_hooks\u001b[0m\u001b[0;34m(\u001b[0m\u001b[0mvectors\u001b[0m\u001b[0;34m,\u001b[0m \u001b[0malphas\u001b[0m\u001b[0;34m,\u001b[0m \u001b[0mprefix\u001b[0m\u001b[0;34m,\u001b[0m \u001b[0minj\u001b[0m\u001b[0;34m,\u001b[0m \u001b[0mread\u001b[0m\u001b[0;34m)\u001b[0m\u001b[0;34m\u001b[0m\u001b[0;34m\u001b[0m\u001b[0m\n\u001b[0m\u001b[1;32m     43\u001b[0m \u001b[0;34m\u001b[0m\u001b[0m\n\u001b[1;32m     44\u001b[0m         \u001b[0;31m# compute slopes near zero\u001b[0m\u001b[0;34m\u001b[0m\u001b[0;34m\u001b[0m\u001b[0m\n",
            "\u001b[0;32m/tmp/ipython-input-1154923142.py\u001b[0m in \u001b[0;36mrun_sweep_with_hooks\u001b[0;34m(vectors, alpha_grid, prompt, inj_layer, read_layer)\u001b[0m\n\u001b[1;32m     20\u001b[0m         \u001b[0ma\u001b[0m \u001b[0;34m=\u001b[0m \u001b[0mfloat\u001b[0m\u001b[0;34m(\u001b[0m\u001b[0ma\u001b[0m\u001b[0;34m)\u001b[0m\u001b[0;34m\u001b[0m\u001b[0;34m\u001b[0m\u001b[0m\n\u001b[1;32m     21\u001b[0m         \u001b[0;32mfor\u001b[0m \u001b[0mname\u001b[0m\u001b[0;34m,\u001b[0m \u001b[0mvec\u001b[0m \u001b[0;32min\u001b[0m \u001b[0mvectors\u001b[0m\u001b[0;34m.\u001b[0m\u001b[0mitems\u001b[0m\u001b[0;34m(\u001b[0m\u001b[0;34m)\u001b[0m\u001b[0;34m:\u001b[0m\u001b[0;34m\u001b[0m\u001b[0;34m\u001b[0m\u001b[0m\n\u001b[0;32m---> 22\u001b[0;31m             \u001b[0mout\u001b[0m\u001b[0;34m[\u001b[0m\u001b[0mname\u001b[0m\u001b[0;34m]\u001b[0m\u001b[0;34m.\u001b[0m\u001b[0mappend\u001b[0m\u001b[0;34m(\u001b[0m\u001b[0mdelta_logit_lens\u001b[0m\u001b[0;34m(\u001b[0m\u001b[0mprompt\u001b[0m\u001b[0;34m,\u001b[0m \u001b[0mvec\u001b[0m\u001b[0;34m,\u001b[0m \u001b[0ma\u001b[0m\u001b[0;34m,\u001b[0m \u001b[0minject_hook\u001b[0m\u001b[0;34m,\u001b[0m \u001b[0mread_hook\u001b[0m\u001b[0;34m)\u001b[0m\u001b[0;34m)\u001b[0m\u001b[0;34m\u001b[0m\u001b[0;34m\u001b[0m\u001b[0m\n\u001b[0m\u001b[1;32m     23\u001b[0m     \u001b[0;32mreturn\u001b[0m \u001b[0mout\u001b[0m\u001b[0;34m,\u001b[0m \u001b[0minject_hook\u001b[0m\u001b[0;34m,\u001b[0m \u001b[0mread_hook\u001b[0m\u001b[0;34m\u001b[0m\u001b[0;34m\u001b[0m\u001b[0m\n\u001b[1;32m     24\u001b[0m \u001b[0;34m\u001b[0m\u001b[0m\n",
            "\u001b[0;32m/usr/local/lib/python3.11/dist-packages/torch/utils/_contextlib.py\u001b[0m in \u001b[0;36mdecorate_context\u001b[0;34m(*args, **kwargs)\u001b[0m\n\u001b[1;32m    114\u001b[0m     \u001b[0;32mdef\u001b[0m \u001b[0mdecorate_context\u001b[0m\u001b[0;34m(\u001b[0m\u001b[0;34m*\u001b[0m\u001b[0margs\u001b[0m\u001b[0;34m,\u001b[0m \u001b[0;34m**\u001b[0m\u001b[0mkwargs\u001b[0m\u001b[0;34m)\u001b[0m\u001b[0;34m:\u001b[0m\u001b[0;34m\u001b[0m\u001b[0;34m\u001b[0m\u001b[0m\n\u001b[1;32m    115\u001b[0m         \u001b[0;32mwith\u001b[0m \u001b[0mctx_factory\u001b[0m\u001b[0;34m(\u001b[0m\u001b[0;34m)\u001b[0m\u001b[0;34m:\u001b[0m\u001b[0;34m\u001b[0m\u001b[0;34m\u001b[0m\u001b[0m\n\u001b[0;32m--> 116\u001b[0;31m             \u001b[0;32mreturn\u001b[0m \u001b[0mfunc\u001b[0m\u001b[0;34m(\u001b[0m\u001b[0;34m*\u001b[0m\u001b[0margs\u001b[0m\u001b[0;34m,\u001b[0m \u001b[0;34m**\u001b[0m\u001b[0mkwargs\u001b[0m\u001b[0;34m)\u001b[0m\u001b[0;34m\u001b[0m\u001b[0;34m\u001b[0m\u001b[0m\n\u001b[0m\u001b[1;32m    117\u001b[0m \u001b[0;34m\u001b[0m\u001b[0m\n\u001b[1;32m    118\u001b[0m     \u001b[0;32mreturn\u001b[0m \u001b[0mdecorate_context\u001b[0m\u001b[0;34m\u001b[0m\u001b[0;34m\u001b[0m\u001b[0m\n",
            "\u001b[0;32m/tmp/ipython-input-3596539641.py\u001b[0m in \u001b[0;36mdelta_logit_lens\u001b[0;34m(prompt, steer_vec, alpha, inject_hook_name, read_hook_name)\u001b[0m\n\u001b[1;32m     18\u001b[0m     \u001b[0m_\u001b[0m \u001b[0;34m=\u001b[0m \u001b[0mmodel\u001b[0m\u001b[0;34m.\u001b[0m\u001b[0mrun_with_hooks\u001b[0m\u001b[0;34m(\u001b[0m\u001b[0mtoks\u001b[0m\u001b[0;34m,\u001b[0m \u001b[0mreturn_type\u001b[0m\u001b[0;34m=\u001b[0m\u001b[0;32mNone\u001b[0m\u001b[0;34m,\u001b[0m \u001b[0mstop_at_layer\u001b[0m\u001b[0;34m=\u001b[0m\u001b[0mmax\u001b[0m\u001b[0;34m(\u001b[0m\u001b[0mINJECT_LAYER\u001b[0m\u001b[0;34m,\u001b[0m \u001b[0mREAD_LAYER\u001b[0m\u001b[0;34m)\u001b[0m \u001b[0;34m+\u001b[0m \u001b[0;36m1\u001b[0m\u001b[0;34m,\u001b[0m \u001b[0mfwd_hooks\u001b[0m\u001b[0;34m=\u001b[0m\u001b[0;34m[\u001b[0m\u001b[0;34m(\u001b[0m\u001b[0minject_hook_name\u001b[0m\u001b[0;34m,\u001b[0m \u001b[0msteer\u001b[0m\u001b[0;34m)\u001b[0m\u001b[0;34m,\u001b[0m \u001b[0;34m(\u001b[0m\u001b[0mread_hook_name\u001b[0m\u001b[0;34m,\u001b[0m \u001b[0mreadh\u001b[0m\u001b[0;34m)\u001b[0m\u001b[0;34m]\u001b[0m\u001b[0;34m)\u001b[0m\u001b[0;34m\u001b[0m\u001b[0;34m\u001b[0m\u001b[0m\n\u001b[1;32m     19\u001b[0m \u001b[0;34m\u001b[0m\u001b[0m\n\u001b[0;32m---> 20\u001b[0;31m     \u001b[0mresid\u001b[0m \u001b[0;34m=\u001b[0m \u001b[0mmodel\u001b[0m\u001b[0;34m.\u001b[0m\u001b[0mln_final\u001b[0m\u001b[0;34m(\u001b[0m\u001b[0mcache\u001b[0m\u001b[0;34m[\u001b[0m\u001b[0;34m\"resid\"\u001b[0m\u001b[0;34m]\u001b[0m\u001b[0;34m[\u001b[0m\u001b[0;34m:\u001b[0m\u001b[0;34m,\u001b[0m \u001b[0mtarget_pos\u001b[0m \u001b[0;34m:\u001b[0m \u001b[0mtarget_pos\u001b[0m \u001b[0;34m+\u001b[0m \u001b[0;36m1\u001b[0m\u001b[0;34m,\u001b[0m \u001b[0;34m:\u001b[0m\u001b[0;34m]\u001b[0m\u001b[0;34m)\u001b[0m\u001b[0;34m\u001b[0m\u001b[0;34m\u001b[0m\u001b[0m\n\u001b[0m\u001b[1;32m     21\u001b[0m     \u001b[0mlogits\u001b[0m \u001b[0;34m=\u001b[0m \u001b[0mmodel\u001b[0m\u001b[0;34m.\u001b[0m\u001b[0munembed\u001b[0m\u001b[0;34m(\u001b[0m\u001b[0mresid\u001b[0m\u001b[0;34m)\u001b[0m\u001b[0;34m[\u001b[0m\u001b[0;36m0\u001b[0m\u001b[0;34m,\u001b[0m \u001b[0;36m0\u001b[0m\u001b[0;34m,\u001b[0m \u001b[0;34m:\u001b[0m\u001b[0;34m]\u001b[0m\u001b[0;34m\u001b[0m\u001b[0;34m\u001b[0m\u001b[0m\n\u001b[1;32m     22\u001b[0m     \u001b[0;32mreturn\u001b[0m \u001b[0mfloat\u001b[0m\u001b[0;34m(\u001b[0m\u001b[0;34m(\u001b[0m\u001b[0mlogits\u001b[0m\u001b[0;34m[\u001b[0m\u001b[0mhe_id\u001b[0m\u001b[0;34m]\u001b[0m \u001b[0;34m-\u001b[0m \u001b[0mlogits\u001b[0m\u001b[0;34m[\u001b[0m\u001b[0mshe_id\u001b[0m\u001b[0;34m]\u001b[0m\u001b[0;34m)\u001b[0m\u001b[0;34m.\u001b[0m\u001b[0mitem\u001b[0m\u001b[0;34m(\u001b[0m\u001b[0;34m)\u001b[0m\u001b[0;34m)\u001b[0m\u001b[0;34m\u001b[0m\u001b[0;34m\u001b[0m\u001b[0m\n",
            "\u001b[0;31mKeyError\u001b[0m: 'resid'"
          ]
        }
      ]
    }
  ],
  "metadata": {
    "kernelspec": {
      "display_name": "Python 3",
      "name": "python3"
    },
    "language_info": {
      "name": "python",
      "version": "3.11.3"
    },
    "colab": {
      "provenance": [],
      "gpuType": "T4"
    },
    "accelerator": "GPU"
  },
  "nbformat": 4,
  "nbformat_minor": 5
}